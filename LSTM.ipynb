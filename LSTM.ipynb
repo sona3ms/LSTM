{
  "nbformat": 4,
  "nbformat_minor": 0,
  "metadata": {
    "colab": {
      "provenance": []
    },
    "kernelspec": {
      "name": "python3",
      "display_name": "Python 3"
    },
    "language_info": {
      "name": "python"
    }
  },
  "cells": [
    {
      "cell_type": "code",
      "execution_count": 1,
      "metadata": {
        "colab": {
          "base_uri": "https://localhost:8080/"
        },
        "id": "qG_c-dycJXKe",
        "outputId": "52d87c2c-18fe-4bc7-963d-81e115350211"
      },
      "outputs": [
        {
          "output_type": "stream",
          "name": "stdout",
          "text": [
            "Downloading data from https://storage.googleapis.com/tensorflow/tf-keras-datasets/imdb.npz\n",
            "17464789/17464789 [==============================] - 1s 0us/step\n",
            "Epoch 1/5\n",
            "625/625 [==============================] - 120s 188ms/step - loss: 0.4709 - acc: 0.7732 - val_loss: 0.3559 - val_acc: 0.8458\n",
            "Epoch 2/5\n",
            "625/625 [==============================] - 118s 189ms/step - loss: 0.2829 - acc: 0.8885 - val_loss: 0.2894 - val_acc: 0.8856\n",
            "Epoch 3/5\n",
            "625/625 [==============================] - 125s 200ms/step - loss: 0.2358 - acc: 0.9087 - val_loss: 0.3390 - val_acc: 0.8798\n",
            "Epoch 4/5\n",
            "625/625 [==============================] - 118s 188ms/step - loss: 0.2082 - acc: 0.9232 - val_loss: 0.2962 - val_acc: 0.8846\n",
            "Epoch 5/5\n",
            "625/625 [==============================] - 119s 190ms/step - loss: 0.1875 - acc: 0.9342 - val_loss: 0.2896 - val_acc: 0.8774\n",
            "782/782 [==============================] - 42s 53ms/step - loss: 0.2995 - acc: 0.8781\n",
            "Test loss: 0.29946014285087585, Test accuracy: 0.8780800104141235\n"
          ]
        }
      ],
      "source": [
        "import tensorflow as tf\n",
        "from tensorflow.keras.datasets import imdb\n",
        "from tensorflow.keras.models import Sequential\n",
        "from tensorflow.keras.layers import Embedding, LSTM, Dense\n",
        "from tensorflow.keras.preprocessing import sequence\n",
        "\n",
        "# Load the IMDB dataset\n",
        "max_features = 10000  # Only consider the top 10,000 words in the dataset\n",
        "max_len = 500  # Cut reviews after 500 words\n",
        "batch_size = 32\n",
        "\n",
        "(x_train, y_train), (x_test, y_test) = imdb.load_data(num_words=max_features)\n",
        "x_train = sequence.pad_sequences(x_train, maxlen=max_len)\n",
        "x_test = sequence.pad_sequences(x_test, maxlen=max_len)\n",
        "\n",
        "# Build the LSTM model\n",
        "model = Sequential()\n",
        "model.add(Embedding(max_features, 32))\n",
        "model.add(LSTM(32))\n",
        "model.add(Dense(1, activation='sigmoid'))\n",
        "\n",
        "# Compile the model\n",
        "model.compile(optimizer='rmsprop', loss='binary_crossentropy', metrics=['acc'])\n",
        "\n",
        "# Train the model\n",
        "history = model.fit(x_train, y_train, epochs=5, batch_size=batch_size, validation_split=0.2)\n",
        "\n",
        "# Evaluate the model on the test set\n",
        "results = model.evaluate(x_test, y_test)\n",
        "print(f'Test loss: {results[0]}, Test accuracy: {results[1]}')\n"
      ]
    },
    {
      "cell_type": "code",
      "source": [
        "import numpy as np\n",
        "\n",
        "class LSTMCell:\n",
        "    def __init__(self, input_size, hidden_size):\n",
        "        self.input_size = input_size\n",
        "        self.hidden_size = hidden_size\n",
        "\n",
        "        # Weights and biases\n",
        "        self.Wf = np.random.randn(hidden_size, input_size + hidden_size)\n",
        "        self.Wi = np.random.randn(hidden_size, input_size + hidden_size)\n",
        "        self.Wc = np.random.randn(hidden_size, input_size + hidden_size)\n",
        "        self.Wo = np.random.randn(hidden_size, input_size + hidden_size)\n",
        "\n",
        "        self.bf = np.zeros((hidden_size, 1))\n",
        "        self.bi = np.zeros((hidden_size, 1))\n",
        "        self.bc = np.zeros((hidden_size, 1))\n",
        "        self.bo = np.zeros((hidden_size, 1))\n",
        "\n",
        "        # Cell state and hidden state\n",
        "        self.c = np.zeros((hidden_size, 1))\n",
        "        self.h = np.zeros((hidden_size, 1))\n",
        "\n",
        "    def sigmoid(self, x):\n",
        "        return 1 / (1 + np.exp(-x))\n",
        "\n",
        "    def tanh(self, x):\n",
        "        return np.tanh(x)\n",
        "\n",
        "    def forward(self, x):\n",
        "        # Concatenate input and hidden state\n",
        "        concat_input = np.vstack((self.h, x))\n",
        "\n",
        "        # Forget gate\n",
        "        f = self.sigmoid(np.dot(self.Wf, concat_input) + self.bf)\n",
        "\n",
        "        # Input gate\n",
        "        i = self.sigmoid(np.dot(self.Wi, concat_input) + self.bi)\n",
        "\n",
        "        # Cell state candidates\n",
        "        c_hat = self.tanh(np.dot(self.Wc, concat_input) + self.bc)\n",
        "\n",
        "        # Update cell state\n",
        "        self.c = f * self.c + i * c_hat\n",
        "\n",
        "        # Output gate\n",
        "        o = self.sigmoid(np.dot(self.Wo, concat_input) + self.bo)\n",
        "\n",
        "        # Update hidden state\n",
        "        self.h = o * self.tanh(self.c)\n",
        "\n",
        "        return self.h, self.c\n",
        "\n",
        "# Example usage\n",
        "input_size = 3\n",
        "hidden_size = 2\n",
        "\n",
        "lstm_cell = LSTMCell(input_size, hidden_size)\n",
        "\n",
        "# Input sequence\n",
        "sequence = [np.array([[1], [2], [3]]) for _ in range(5)]\n",
        "\n",
        "for step in sequence:\n",
        "    output, cell_state = lstm_cell.forward(step)\n",
        "    print(\"Output:\", output)\n"
      ],
      "metadata": {
        "colab": {
          "base_uri": "https://localhost:8080/"
        },
        "id": "E1_itTG2JdiU",
        "outputId": "a92e33b3-2f9d-4fbb-f615-3df49cdaba38"
      },
      "execution_count": 2,
      "outputs": [
        {
          "output_type": "stream",
          "name": "stdout",
          "text": [
            "Output: [[0.12130812]\n",
            " [0.72008675]]\n",
            "Output: [[0.19589049]\n",
            " [0.86564405]]\n",
            "Output: [[0.2622228 ]\n",
            " [0.89752156]]\n",
            "Output: [[0.32565316]\n",
            " [0.90771471]]\n",
            "Output: [[0.38668682]\n",
            " [0.91141334]]\n"
          ]
        }
      ]
    },
    {
      "cell_type": "code",
      "source": [],
      "metadata": {
        "id": "APIwnY0_KGIe"
      },
      "execution_count": null,
      "outputs": []
    }
  ]
}